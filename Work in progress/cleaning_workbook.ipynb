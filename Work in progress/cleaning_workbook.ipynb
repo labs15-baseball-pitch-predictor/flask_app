{
 "cells": [
  {
   "cell_type": "markdown",
   "metadata": {
    "colab_type": "text",
    "id": "2OJe7g3LGVcZ"
   },
   "source": [
    "# Import"
   ]
  },
  {
   "cell_type": "markdown",
   "metadata": {
    "colab_type": "text",
    "id": "YF3pIiRCGe9x"
   },
   "source": [
    "## Install Packages "
   ]
  },
  {
   "cell_type": "markdown",
   "metadata": {
    "colab_type": "text",
    "id": "KesLY5qJGZai"
   },
   "source": [
    "## Import Packages "
   ]
  },
  {
   "cell_type": "code",
   "execution_count": null,
   "metadata": {
    "colab": {},
    "colab_type": "code",
    "id": "IbkQRe_UGqaW"
   },
   "outputs": [],
   "source": [
    "import pandas as pd\n",
    "import numpy as np\n",
    "import random "
   ]
  },
  {
   "cell_type": "markdown",
   "metadata": {
    "colab_type": "text",
    "id": "rvyHKq7AGii0"
   },
   "source": [
    "## Import Data"
   ]
  },
  {
   "cell_type": "code",
   "execution_count": null,
   "metadata": {
    "colab": {},
    "colab_type": "code",
    "id": "8dUr_LAqGsrA"
   },
   "outputs": [],
   "source": [
    "filenames = [str(i) + '.pkl' for i in range(2010,2019)]\n",
    "\n",
    "seasons = ['df_' + str(i) for i in range(10,19)]"
   ]
  },
  {
   "cell_type": "code",
   "execution_count": null,
   "metadata": {
    "colab": {},
    "colab_type": "code",
    "id": "ZEIYEmytG8IS"
   },
   "outputs": [],
   "source": [
    "season_dataframes = {}\n",
    "\n",
    "for i in list(zip(filenames, seasons)):\n",
    "        path = \"Season_pickles/\" + i[0]\n",
    "        season_dataframes[i[1]] = pd.read_pickle(path, compression='zip')"
   ]
  },
  {
   "cell_type": "markdown",
   "metadata": {
    "colab_type": "text",
    "id": "Ixt69EZHGkqO"
   },
   "source": [
    "## Concatenate Data"
   ]
  },
  {
   "cell_type": "code",
   "execution_count": null,
   "metadata": {
    "colab": {},
    "colab_type": "code",
    "id": "wY2f1EYoHF9h"
   },
   "outputs": [],
   "source": [
    "pitches = pd.concat(season_dataframes.values())"
   ]
  },
  {
   "cell_type": "markdown",
   "metadata": {
    "colab_type": "text",
    "id": "55iKQ_82_jba"
   },
   "source": [
    "# Clean"
   ]
  },
  {
   "cell_type": "markdown",
   "metadata": {},
   "source": [
    "## All Instances"
   ]
  },
  {
   "cell_type": "markdown",
   "metadata": {},
   "source": [
    "**Issue**: There are some instances where no data is recorded\n",
    "\n",
    "**Solution**: Drop these instances from the data"
   ]
  },
  {
   "cell_type": "code",
   "execution_count": null,
   "metadata": {},
   "outputs": [],
   "source": [
    "pitches = pitches.dropna(axis = 0, how = 'all')"
   ]
  },
  {
   "cell_type": "markdown",
   "metadata": {},
   "source": [
    "\n",
    "\n",
    "---\n",
    "\n"
   ]
  },
  {
   "cell_type": "markdown",
   "metadata": {
    "colab_type": "text",
    "id": "Ni1ZMKCENmJD"
   },
   "source": [
    "## Pitch Type"
   ]
  },
  {
   "cell_type": "markdown",
   "metadata": {
    "colab_type": "text",
    "id": "dE_YfpuwNj9t"
   },
   "source": [
    "**Feature Name**: `pitch_type`\n",
    "\n",
    "**Feature Description**: The type of pitch derived from Statcast."
   ]
  },
  {
   "cell_type": "markdown",
   "metadata": {
    "colab_type": "text",
    "id": "VR3-i8XcLogQ"
   },
   "source": [
    "**Issue**: Feature is supposed to contain a 2 character string, but many values (265) are filled with long strings of numerical characters. Example: 160421_181540\n",
    "\n",
    "**Solution**: Replace values longer than 2 characters in lengeth with np.NaN"
   ]
  },
  {
   "cell_type": "code",
   "execution_count": null,
   "metadata": {
    "colab": {},
    "colab_type": "code",
    "id": "1jNfbKCFJ-yF"
   },
   "outputs": [],
   "source": [
    "pitches['pitch_type'] = pitches.apply(\n",
    "    lambda row: np.NaN\\\n",
    "        if len(str(row['pitch_type'])) > 2\\\n",
    "        else row['pitch_type'], axis = 1)"
   ]
  },
  {
   "cell_type": "markdown",
   "metadata": {
    "colab_type": "text",
    "id": "01lDPFFGNJ5n"
   },
   "source": [
    "**Issue**: Many values of this feature are recorded as 'UN'\n",
    "\n",
    "**Solution**: Replace value with np.NaN"
   ]
  },
  {
   "cell_type": "code",
   "execution_count": null,
   "metadata": {
    "colab": {},
    "colab_type": "code",
    "id": "GvdUDdXoJ5n-"
   },
   "outputs": [],
   "source": [
    "pitches['pitch_type'] = pitches['pitch_type'].replace({'UN':np.nan})"
   ]
  },
  {
   "cell_type": "markdown",
   "metadata": {
    "colab_type": "text",
    "id": "luPFSDNLGZsc"
   },
   "source": [
    "**Issue**: The pitch type feature is filled with NaN values\n",
    "\n",
    "**Solution**: We will create a mapping of a pitchers id and his normalized pitch counts. Using these normalized values as weights we will select a random pitch type and fill the NaN value for that pitcher. We will use df.apply, but this could be time optomized by using series vectorization. "
   ]
  },
  {
   "cell_type": "code",
   "execution_count": null,
   "metadata": {
    "colab": {},
    "colab_type": "code",
    "id": "Ia82D1XBLtYj"
   },
   "outputs": [],
   "source": [
    "# Create mapping\n",
    "\n",
    "# List fo unique pitcher ID's\n",
    "pitcher_list = pitches['pitcher'].unique().tolist()\n",
    "\n",
    "\n",
    "pitcher_dict = {}\n",
    "for pitcher in pitcher_list:\n",
    "    \n",
    "    # Pitcher's prior pitch type probabilites\n",
    "    pitch_type_weights = pitches[pitches.pitcher == pitcher]\\\n",
    "                         .pitch_type\\\n",
    "                         .value_counts(normalize=True)\n",
    "    \n",
    "    pitcher_dict[pitcher] = pitch_type_weights.to_dict()\n",
    "\n",
    "\n",
    "# Fill nan values\n",
    "pitcher_dict = pd.DataFrame(pitcher_dict).fillna(0).to_dict()"
   ]
  },
  {
   "cell_type": "code",
   "execution_count": null,
   "metadata": {
    "colab": {},
    "colab_type": "code",
    "id": "pVQU7ytjNUSe"
   },
   "outputs": [],
   "source": [
    "# Select replacement pitch type and fill NaN values\n",
    "\n",
    "def pick_a_pitch(pitcher_id):\n",
    "    \"\"\" \n",
    "    Returns a random pitch type label\n",
    "    Uses pitchers prior pitch type probabilites as weights\n",
    "    \"\"\"\n",
    "    \n",
    "    population = list(pitcher_dict[pitcher_id].keys())\n",
    "    weights = list(pitcher_dict[pitcher_id].values())\n",
    "    \n",
    "    return random.choices(population, weights, k=1)[0]\n",
    "\n",
    "# Iterate by instance, fill null values\n",
    "pitches['pitch_type'] = pitches.apply(\n",
    "    lambda row: pick_a_pitch(row['pitcher']) \\\n",
    "        if pd.isnull(row['pitch_type']) \\\n",
    "        else row['pitch_type'], axis = 1)"
   ]
  },
  {
   "cell_type": "code",
   "execution_count": null,
   "metadata": {},
   "outputs": [],
   "source": [
    "pitch_type_map = {'FA':'fastball', 'FF':'fastball', 'FT':'fastball', 'FC':'fastball',\n",
    "                  'FS':'fastball', 'SI':'fastball', 'SF':'fastball', 'SL':'breaking',\n",
    "                  'CB':'breaking', 'CU':'breaking', 'SC':'breaking', 'KC':'breaking',\n",
    "                  'CH':'offspeed', 'KN':'offspeed', 'EP':'offspeed', 'FO':'breaking', \n",
    "                  'PO':'pitchout', 'IN':'pitchout'}\n",
    "    \n",
    "pitches['pitch_subtype'] = pitches['pitch_type']\n",
    "pitches['pitch_type'] = pitches['pitch_type'].map(pitch_type_map)"
   ]
  },
  {
   "cell_type": "markdown",
   "metadata": {},
   "source": [
    "\n",
    "\n",
    "---\n",
    "\n"
   ]
  },
  {
   "cell_type": "markdown",
   "metadata": {},
   "source": [
    "## Count"
   ]
  },
  {
   "cell_type": "markdown",
   "metadata": {
    "colab_type": "text",
    "id": "6S1sJ5cV9yt3"
   },
   "source": [
    "**Feature**: Count ratio\n",
    "\n",
    "**Description**: The ratio of balls and strikes for the current at bat"
   ]
  },
  {
   "cell_type": "markdown",
   "metadata": {},
   "source": [
    "**Issue**: There are two existing features related to the count. We need to represent the count as a categorical feature.\n",
    "\n",
    "**Solution**: Classifiy the pitchers position reguarding the count (Ahead, Behind, Neutral)"
   ]
  },
  {
   "cell_type": "code",
   "execution_count": null,
   "metadata": {},
   "outputs": [],
   "source": [
    "pitches['balls'] = pitches['balls'].replace({4:3, 5:3})"
   ]
  },
  {
   "cell_type": "code",
   "execution_count": null,
   "metadata": {},
   "outputs": [],
   "source": [
    "pitches['count_status'] = pitches['balls'].astype('int').astype('str')\\\n",
    "                        + pitches['strikes'].astype('int').astype('str')"
   ]
  },
  {
   "cell_type": "code",
   "execution_count": null,
   "metadata": {},
   "outputs": [],
   "source": [
    "count_status_mapping = {\n",
    "    '00':'neutral', '21':'neutral', '32':'neutral', '10':'behind',\n",
    "    '20':'behind', '30':'behind', '31':'behind', '01':'ahead',\n",
    "    '02':'ahead', '11':'ahead', '12':'ahead', '22':'ahead'\n",
    "}\n",
    "\n",
    "\n",
    "pitches['count_status'] = pitches['count_status'].map(count_status_mapping)"
   ]
  },
  {
   "cell_type": "markdown",
   "metadata": {},
   "source": [
    "\n",
    "\n",
    "---\n",
    "\n"
   ]
  },
  {
   "cell_type": "markdown",
   "metadata": {},
   "source": [
    "## Score Differential"
   ]
  },
  {
   "cell_type": "markdown",
   "metadata": {
    "colab_type": "text",
    "id": "6S1sJ5cV9yt3"
   },
   "source": [
    "**Feature**: Score Differential\n",
    "\n",
    "**Description**: The absolute value of the difference in home team score and away team score"
   ]
  },
  {
   "cell_type": "code",
   "execution_count": null,
   "metadata": {},
   "outputs": [],
   "source": [
    "pitches['score_differential'] = abs(pitches['home_score'] - pitches['away_score'])"
   ]
  },
  {
   "cell_type": "markdown",
   "metadata": {
    "colab_type": "text",
    "id": "h0E2hPZvDmzU"
   },
   "source": [
    "\n",
    "\n",
    "---\n",
    "\n"
   ]
  },
  {
   "cell_type": "markdown",
   "metadata": {},
   "source": [
    "## Bases Loaded"
   ]
  },
  {
   "cell_type": "markdown",
   "metadata": {
    "colab_type": "text",
    "id": "EE9jjHUvDzjw"
   },
   "source": [
    "**Feature**: Bases Loaded\n",
    "\n",
    "**Description**: A binary indication of the bases being loaded or not"
   ]
  },
  {
   "cell_type": "code",
   "execution_count": null,
   "metadata": {},
   "outputs": [],
   "source": [
    "pitches['on_1b'] = pitches['on_1b'] * 0 + 1\n",
    "pitches['on_1b'] = pitches['on_1b'].fillna(0)\n",
    "pitches['on_2b'] = pitches['on_2b'] * 0 + 1\n",
    "pitches['on_2b'] = pitches['on_2b'].fillna(0)\n",
    "pitches['on_3b'] = pitches['on_3b'] * 0 + 1\n",
    "pitches['on_3b'] = pitches['on_3b'].fillna(0)\n",
    "\n",
    "\n",
    "pitches['bases_loaded'] = pitches['on_1b'] + pitches['on_2b'] + pitches['on_3b']\n",
    "pitches['bases_loaded'] = pitches['bases_loaded'].apply(lambda x: 1 if x == 3 else 0)"
   ]
  },
  {
   "cell_type": "markdown",
   "metadata": {
    "colab_type": "text",
    "id": "KknB-XONDzj0"
   },
   "source": [
    "\n",
    "\n",
    "---\n",
    "\n"
   ]
  },
  {
   "cell_type": "markdown",
   "metadata": {},
   "source": [
    "## Swung"
   ]
  },
  {
   "cell_type": "markdown",
   "metadata": {
    "colab_type": "text",
    "id": "6S1sJ5cV9yt3"
   },
   "source": [
    "**Feature**: swung\n",
    "\n",
    "**Description**: Binary feature describing wheather or not the batter swung at the pitch or not"
   ]
  },
  {
   "cell_type": "code",
   "execution_count": null,
   "metadata": {},
   "outputs": [],
   "source": [
    "swung = ['foul','hit_into_play','swinging_strike','hit_into_play_no_out',\n",
    "         'hit_into_play_score','foul_tip','swinging_strike_blocked',\n",
    "         'foul_bunt','missed_bunt']\n",
    "\n",
    "pitches['batter_swung'] = pitches['description'].apply(lambda x: 1 if x in swung else 0)"
   ]
  },
  {
   "cell_type": "code",
   "execution_count": null,
   "metadata": {},
   "outputs": [],
   "source": [
    "pitches['ball_high'] = pitches['plate_z'] > pitches['sz_top']\n",
    "pitches['ball_low'] = pitches['plate_z'] < pitches['sz_bot']\n",
    "pitches['ball_left'] = pitches['plate_x'].apply(lambda x: x < -0.73)\n",
    "pitches['ball_right'] = pitches['plate_x'].apply(lambda x: x > 0.73)"
   ]
  },
  {
   "cell_type": "code",
   "execution_count": null,
   "metadata": {},
   "outputs": [],
   "source": [
    "pitches['in_strikezone'] = (pitches['ball_high'].astype(int)\n",
    "                            + pitches['ball_low'].astype(int)\n",
    "                            + pitches['ball_left'].astype(int)\n",
    "                            + pitches['ball_right'].astype(int))\n",
    "\n",
    "pitches['in_strikezone'] = pitches['in_strikezone'].apply(\n",
    "    lambda x: 0 \n",
    "        if x > 0 \n",
    "        else 1)"
   ]
  },
  {
   "cell_type": "code",
   "execution_count": null,
   "metadata": {},
   "outputs": [],
   "source": [
    "pitches['chased'] = pitches['batter_swung'] - pitches['in_strikezone']\n",
    "pitches['chased'] = pitches['chased'].apply(lambda x: 1 if x == 1 else 0)"
   ]
  },
  {
   "cell_type": "code",
   "execution_count": null,
   "metadata": {},
   "outputs": [],
   "source": []
  },
  {
   "cell_type": "markdown",
   "metadata": {},
   "source": [
    "## Batters Data"
   ]
  },
  {
   "cell_type": "code",
   "execution_count": null,
   "metadata": {},
   "outputs": [],
   "source": [
    "sample_batter = list(pitches['batter'].unique())[0]\n",
    "sample_batter"
   ]
  },
  {
   "cell_type": "code",
   "execution_count": null,
   "metadata": {},
   "outputs": [],
   "source": [
    "batter_df = pitches[pitches['batter'] == sample_batter]\n",
    "batter_df.head()"
   ]
  },
  {
   "cell_type": "code",
   "execution_count": null,
   "metadata": {},
   "outputs": [],
   "source": [
    "next_probs = batter_df.groupby('pitch_type').size().div(len(batter_df))\n",
    "next_probs"
   ]
  },
  {
   "cell_type": "code",
   "execution_count": null,
   "metadata": {},
   "outputs": [],
   "source": [
    "batter_df['pitch_type'].value_counts(normalize = True).to_dict()"
   ]
  },
  {
   "cell_type": "code",
   "execution_count": null,
   "metadata": {},
   "outputs": [],
   "source": [
    "pd.DataFrame(batter_df.groupby(['pitch_type', 'chased']).size().div(len(batter_df)).div(next_probs, axis=0, level='pitch_type'))"
   ]
  },
  {
   "cell_type": "code",
   "execution_count": null,
   "metadata": {},
   "outputs": [],
   "source": [
    "batter_dict = {}\n",
    "    \n",
    "pitch_types = pitches['pitch_type'].unique().tolist()\n",
    "pitch_type_percentages = batter_df['pitch_type'].value_counts(normalize=True)\n",
    "for pitch_type in pitch_types:\n",
    "    batter_dict[pitch_type + '_perc_faced'] = pitch_type_percentages[pitch_type] * 100"
   ]
  },
  {
   "cell_type": "code",
   "execution_count": null,
   "metadata": {},
   "outputs": [],
   "source": [
    "batter_dict"
   ]
  },
  {
   "cell_type": "code",
   "execution_count": null,
   "metadata": {},
   "outputs": [],
   "source": [
    "for pitch_type in pitch_types:\n",
    "    cat_df = batter_df[batter_df['pitch_type'] == pitch_type]\n",
    "    out_of_strikezone = len(cat_df) - cat_df['in_strikezone'].sum()\n",
    "    \n",
    "    chased_count = cat_df['chased'].sum()\n",
    "    chase_perc = (chased_count / out_of_strikezone) * 100\n",
    "    batter_dict[pitch_type + '_chase_perc'] = chase_perc\n",
    "    \n",
    "    ball_in_play_count = len(cat_df[cat_df['type'] == 'X'])\n",
    "    swung_count = cat_df['batter_swung'].sum()\n",
    "    batter_dict[pitch_type + '_bip_swung_perc'] = (ball_in_play_count / swung_count) * 100"
   ]
  },
  {
   "cell_type": "code",
   "execution_count": null,
   "metadata": {},
   "outputs": [],
   "source": [
    "batter_dict"
   ]
  },
  {
   "cell_type": "code",
   "execution_count": null,
   "metadata": {},
   "outputs": [],
   "source": [
    "for pitch_type in pitch_types:\n",
    "    ball_in_play_count = len(cat_df[cat_df['type'] == 'X'])\n",
    "    swung_count = cat_df['batter_swung'].sum()\n",
    "    batter_dict[pitch_type + '_bip_swung_perc'] = (ball_in_play_count / swung_count) * 100"
   ]
  },
  {
   "cell_type": "code",
   "execution_count": null,
   "metadata": {},
   "outputs": [],
   "source": [
    " #calc ball in play % for each swing for each pitch cat:\n",
    "            ball_in_play_count = len(cat_df[cat_df['type'] == 'X']) #type X means ball hit into play\n",
    "            swung_count = cat_df['batter_swung'].sum() #counts all the 1s in the swung column\n",
    "            #assign the ball in play % per swing to the batter dict\n",
    "            batter_dict[cat + '_bip_swung_perc'] = (ball_in_play_count / swung_count) * 100\n",
    "        "
   ]
  },
  {
   "cell_type": "code",
   "execution_count": null,
   "metadata": {
    "colab": {},
    "colab_type": "code",
    "id": "k6JyEXGX8Xh6"
   },
   "outputs": [],
   "source": [
    "def make_batters_df(prior_df):\n",
    "    df = prior_df.copy()\n",
    "    #make list of the unique batter ids\n",
    "    batters = list(df['batter'].unique())\n",
    "    #initialize empty dictionary to store the batter stats\n",
    "    batters_dict = {}\n",
    "    #set a break flag to False for error-checking\n",
    "    brk = False\n",
    "    #iterate thru each unique batter\n",
    "    for batter in batters:\n",
    "        if brk:\n",
    "            break\n",
    "        #make subset of the df for that batter and assign to variable batter_df    \n",
    "        batter_df = df[df['batter'] == batter]\n",
    "        \n",
    "        #assign all pitch categories to list:\n",
    "        all_pitch_cats = ['fastball', 'breaking', 'offspeed', 'pitchout']\n",
    "        \n",
    "        #assign the pitch categories to a list\n",
    "        try:\n",
    "            pitch_cats = batter_df['pitch_type'].unique().tolist()\n",
    "        except KeyError:\n",
    "            print(batter)\n",
    "            brk = True\n",
    "        #get the normalized value counts of pitches by category that batter has faced\n",
    "        vc = batter_df['pitch_type'].value_counts(normalize=True)\n",
    "        #initialize empty dict for each batter\n",
    "        batter_dict = {}\n",
    "        \n",
    "        #if there are any pitch categories the batter has not faced, \n",
    "        unfaced_cats = list(set(all_pitch_cats) - set(pitch_cats))\n",
    "        \n",
    "        for cat in pitch_cats:\n",
    "            if brk:\n",
    "                break\n",
    "        \n",
    "            #assign the % of pitches faced by the batter for that category to his batter dict\n",
    "            try:\n",
    "                batter_dict[cat + '_perc_faced'] = vc[cat] * 100\n",
    "            except TypeError:\n",
    "                print(batter)\n",
    "                return 1\n",
    "                \n",
    "            #continue out of the loop for pitchout category since ball in play stats are NaN\n",
    "            if cat == 'pitchout':\n",
    "                continue\n",
    "        \n",
    "            #grab subset of batter df for the pitch category\n",
    "            cat_df = batter_df[batter_df['pitch_type'] == cat]\n",
    "            \n",
    "            #if he has faced less than 100 pitches of that type, add it to unfaced_category and fill w NaN\n",
    "            if len(cat_df) < 100:\n",
    "                unfaced_cats.append(cat)\n",
    "                continue\n",
    "        \n",
    "            #calculate batters chase % for pitch type category on balls outside the strikezone\n",
    "            out_of_strikezone = len(cat_df) - cat_df['in_strikezone'].sum() #num of times ball was out of zone\n",
    "            chased_count = cat_df['chased'].sum() #num of times batter chased\n",
    "            try:\n",
    "                chase_perc = (chased_count / out_of_strikezone) * 100\n",
    "            except ZeroDivisionError:\n",
    "                chase_perc = np.nan\n",
    "            #assign the chase perc to the batter dict\n",
    "            batter_dict[cat + '_chase_perc'] = chase_perc\n",
    "        \n",
    "            #calc ball in play % for each swing for each pitch cat:\n",
    "            ball_in_play_count = len(cat_df[cat_df['type'] == 'X']) #type X means ball hit into play\n",
    "            swung_count = cat_df['batter_swung'].sum() #counts all the 1s in the swung column\n",
    "            #assign the ball in play % per swing to the batter dict\n",
    "            batter_dict[cat + '_bip_swung_perc'] = (ball_in_play_count / swung_count) * 100\n",
    "        \n",
    "            #calculate taken strike %\n",
    "            taken_strike_count = len(cat_df[(cat_df['in_strikezone'] == 1) & (cat_df['batter_swung'] == 0)])\n",
    "            pitches_in_zone_count = cat_df['in_strikezone'].sum() #counts the 1s in the in zone col\n",
    "            #assign to batter_dict\n",
    "            batter_dict[cat + '_taken_strike_perc'] = (taken_strike_count / pitches_in_zone_count) * 100\n",
    "        \n",
    "            #for each pitch type category, get the batters stats on balls hit in play\n",
    "            stats = ['estimated_woba_using_speedangle', 'babip_value', 'iso_value']\n",
    "            for stat in stats:\n",
    "                #drop Nans from the stat column and assign to new subset, for each stat\n",
    "                stat_cat_df = cat_df.dropna(subset=[stat])\n",
    "                if stat == 'estimated_woba_using_speedangle':\n",
    "                    #get the mean avg_est_woba\n",
    "                    avg_est_woba = stat_cat_df['estimated_woba_using_speedangle'].mean()\n",
    "                    #assign that value to the batters dictionary\n",
    "                    batter_dict[cat + '_est_woba'] = avg_est_woba\n",
    "                    if avg_est_woba == np.nan:\n",
    "                        print(batter)\n",
    "                        brk = True\n",
    "                        break\n",
    "                elif stat == 'babip_value':\n",
    "                    avg_babip = stat_cat_df['babip_value'].mean()\n",
    "                    batter_dict[cat + '_babip'] = avg_babip\n",
    "                else:\n",
    "                    avg_iso_value = stat_cat_df['iso_value'].mean()\n",
    "                    batter_dict[cat + '_iso_value'] = avg_iso_value\n",
    "                    \n",
    "        #for unfaced or small sample pitch_types: assign NaNs to his dictionary for that category\n",
    "        for cat in unfaced_cats:\n",
    "            if cat == 'pitchout':\n",
    "                batter_dict[cat + '_perc_faced'] = 0\n",
    "            else:\n",
    "                batter_dict[cat + '_perc_faced'] = np.nan\n",
    "                batter_dict[cat + '_chase_perc'] = np.nan\n",
    "                batter_dict[cat + '_bip_swung_perc'] = np.nan\n",
    "                batter_dict[cat + '_taken_strike_perc'] = np.nan\n",
    "                batter_dict[cat + '_est_woba'] = np.nan\n",
    "                batter_dict[cat + '_babip'] = np.nan\n",
    "                batter_dict[cat + '_iso_value'] = np.nan\n",
    "        \n",
    "        #assign the batter dictionary to the main dictionary of all batters\n",
    "        batters_dict[batter] = batter_dict\n",
    "    if not brk:\n",
    "        print('iteration completed successfully')\n",
    "        \n",
    "    #make df from the batters dict\n",
    "    batters_df = pd.DataFrame.from_dict(batters_dict, orient='index')\n",
    "    batters_df = batters_df.reset_index().rename(columns={'index':'batter'})\n",
    "    return batters_df"
   ]
  },
  {
   "cell_type": "code",
   "execution_count": null,
   "metadata": {},
   "outputs": [],
   "source": [
    "batters_df = make_batters_df(pitches)\n",
    "batters_df.head()"
   ]
  },
  {
   "cell_type": "code",
   "execution_count": null,
   "metadata": {
    "colab": {},
    "colab_type": "code",
    "id": "S_5HlLtZ8LKg"
   },
   "outputs": [],
   "source": [
    "def downcast_dtypes(df):\n",
    "    df = df.copy()\n",
    "    int_cols = df.select_dtypes('int').columns.tolist()\n",
    "    float_cols = df.select_dtypes('float').columns.tolist()\n",
    "    obj_cols = df.select_dtypes('object').columns.tolist()\n",
    "    cat_cols = []\n",
    "    for col in obj_cols:\n",
    "        if col == 'pitch_type':\n",
    "            continue\n",
    "        if len(df[col].unique()) < len(df)/2:\n",
    "            cat_cols.append(col)\n",
    "      \n",
    "    ints = df[int_cols].apply(pd.to_numeric,downcast='unsigned')\n",
    "    floats = df[float_cols].apply(pd.to_numeric,downcast='float')\n",
    "    cats = df[cat_cols].astype('category')\n",
    "  \n",
    "    df = df.drop(columns=int_cols + float_cols + cat_cols)\n",
    "    for d in [ints, floats, cats]:\n",
    "        df = pd.concat([df, d], axis=1)\n",
    "    return df"
   ]
  },
  {
   "cell_type": "code",
   "execution_count": null,
   "metadata": {
    "colab": {},
    "colab_type": "code",
    "id": "hg8aq5Tt8g7S"
   },
   "outputs": [],
   "source": [
    "def pre_process_step1(combined):\n",
    "    df = combined.copy()\n",
    "    #convert the pitch type for UN (unknown) to np.nan\n",
    "    df['pitch_type'] = df['pitch_type'].replace({'UN':np.nan})\n",
    "    #fix some faulty data that has number of balls listed as 4:\n",
    "    df['balls'] = df['balls'].replace({4.0: 3.0})\n",
    "    \n",
    "    #count, count_cat, score_diff, on_base 1/0, bases_loaded\n",
    "    df = make_game_features(df)\n",
    "    \n",
    "    #batter_swung, in_strikezone, chased\n",
    "    df = make_strikezone_swung_and_chase_features(df)\n",
    "    \n",
    "    #get aggregate pitcher %s dict from prior data:\n",
    "    pitcher_dict = gen_pitcher_percentages(df)\n",
    "    \n",
    "    #fil the NaNs for pitch_type using randomized guess from pitcher tendencies\n",
    "    df = fill_pitch_type_nans(df, pitcher_dict)\n",
    "        \n",
    "    #pitch_type category feature\n",
    "    df = make_pitch_type_cat(df)\n",
    "    \n",
    "    return df\n",
    "\n",
    "#pass in list of periods to update the data (and fill NaNs) using prior aggregates:\n",
    "def pre_process_step2(pre_processed_step1, start_dates, end_dates):\n",
    "    df = pre_processed_step1.copy()\n",
    "    \n",
    "    #initialize empty list to store dfs (concat them together later)\n",
    "    df_list = []\n",
    "    \n",
    "    #iterate over each period\n",
    "    for i in range(len(start_dates)):\n",
    "        #make the prior and current dfs:\n",
    "        prior_df = df[df['game_date'] < start_dates[i]]\n",
    "        current_df = df[(df['game_date'] >= start_dates[i]) & (df['game_date'] <= end_dates[i])]\n",
    "        \n",
    "        #add the batter scouting report\n",
    "        batters_df = make_batters_df(prior_df)\n",
    "        current_df = pd.merge(current_df, batters_df, how='left', on='batter')\n",
    "        \n",
    "        #append the df to the list\n",
    "        df_list.append(current_df)\n",
    "    \n",
    "    step2_df = pd.concat(df_list, sort=False)\n",
    "    return step2_df"
   ]
  },
  {
   "cell_type": "code",
   "execution_count": null,
   "metadata": {
    "colab": {},
    "colab_type": "code",
    "id": "MZ6c4yOQ8xcD"
   },
   "outputs": [],
   "source": [
    "def get_pitch_tendencies(pitcher_df):\n",
    "    #assign the normalized value counts for this pitchers pitch types to a dictionary\n",
    "    pitcher_tendencies_overall = pitcher_df['pitch_type'].value_counts(normalize=True).to_dict()\n",
    "    \n",
    "    #initialize empty dict for count categories tendencies\n",
    "    pitcher_tendencies_by_count = {}\n",
    "    \n",
    "    #loop over each count category and get the pitchers tendencies and add to the dict\n",
    "    for cat in pitcher_df['count_cat'].unique().tolist():\n",
    "        subset = pitcher_df[pitcher_df['count_cat'] == cat]\n",
    "        pitcher_tendencies_by_count[cat] = subset['pitch_type'].value_counts(normalize=True).to_dict()\n",
    "    return pitcher_tendencies_overall, pitcher_tendencies_by_count"
   ]
  },
  {
   "cell_type": "code",
   "execution_count": null,
   "metadata": {
    "colab": {},
    "colab_type": "code",
    "id": "ePFW5z9J82Ky"
   },
   "outputs": [],
   "source": [
    "def make_tendency_features(pitcher_df, pitcher_tendencies_overall, pitcher_tendencies_by_count):\n",
    "    df = pitcher_df.copy()\n",
    "    \n",
    "    pitch_types = pitcher_tendencies_overall.keys()\n",
    "    \n",
    "    for pitch_type in pitch_types:\n",
    "        overall_feature = 'overall_' + pitch_type + '_perc'\n",
    "        count_cat_feature = 'count_cat_' + pitch_type + '_perc'\n",
    "        \n",
    "        def get_overall_perc(x):\n",
    "            return pitcher_tendencies_overall[x]\n",
    "        def get_by_count_perc(x):\n",
    "            try:\n",
    "                return pitcher_tendencies_by_count[x][pitch_type]\n",
    "            except KeyError:\n",
    "                return 0\n",
    "        \n",
    "        df[overall_feature] = pitch_type\n",
    "        df[overall_feature] = df[overall_feature].apply(get_overall_perc)\n",
    "        df[count_cat_feature] = df['count_cat'].apply(get_by_count_perc)\n",
    "    return df"
   ]
  },
  {
   "cell_type": "code",
   "execution_count": null,
   "metadata": {
    "colab": {},
    "colab_type": "code",
    "id": "YdpkTnpU87Cw"
   },
   "outputs": [],
   "source": [
    "start_dates = ['2018-03-29', '2018-05-01', '2018-06-01', '2018-07-01', '2018-08-01', \n",
    "               '2018-09-01', '2019-03-28', '2019-05-01', '2019-06-01', '2019-07-01', \n",
    "               '2019-08-01']\n",
    "\n",
    "end_dates =  ['2018-04-30', '2018-05-31', '2018-06-30', '2018-07-31', '2018-08-31', \n",
    "              '2018-10-01', '2019-04-30', '2019-05-31', '2019-06-30', '2019-07-31', \n",
    "              '2019-08-31']\n",
    "\n",
    "  \n",
    "def add_pitcher_scouting_report(pitcher_df, pitcher_df17, start_dates, end_dates):\n",
    "    df = pd.concat([pitcher_df, pitcher_df17], sort=False)\n",
    "    \n",
    "    #initialize empty list to store dfs (concat them together later)\n",
    "    df_list = []\n",
    "    \n",
    "    #iterate over each period\n",
    "    for i in range(len(start_dates)):\n",
    "      \n",
    "        #make the prior and current dfs:\n",
    "        prior_df = df[df['game_date'] < start_dates[i]]\n",
    "        current_df = df[(df['game_date'] >= start_dates[i]) & (df['game_date'] <= end_dates[i])]\n",
    "        \n",
    "        #get the pitch tendencies from prior:\n",
    "        pitcher_tendencies_overall, pitcher_tendencies_by_count = get_pitch_tendencies(prior_df)\n",
    "        \n",
    "        #make the pitch tendencies features on current:\n",
    "        current_df = make_tendency_features(current_df, pitcher_tendencies_overall, pitcher_tendencies_by_count)\n",
    "        \n",
    "        #append the df to the list\n",
    "        df_list.append(current_df)\n",
    "    \n",
    "    df = pd.concat(df_list, sort=False)\n",
    "    return df"
   ]
  },
  {
   "cell_type": "code",
   "execution_count": null,
   "metadata": {
    "colab": {},
    "colab_type": "code",
    "id": "lMikEOEB9AKQ"
   },
   "outputs": [],
   "source": [
    "def make_game_batting_order(game_df):\n",
    "    game_df = game_df.sort_values(by=['at_bat_number', 'pitch_number'])\n",
    "    all_batters = game_df['batter'].unique().tolist()\n",
    "    #re-set the at_bat_number for the game to be sequential starting at 1\n",
    "    at_bat_keys = game_df['at_bat_number'].unique().tolist()\n",
    "    at_bat_values = range(1, len(at_bat_keys)+1)\n",
    "    at_bat_map = dict(zip(at_bat_keys, at_bat_values))\n",
    "    game_df['at_bat_number'] = game_df['at_bat_number'].replace(at_bat_map)\n",
    "    \n",
    "    #get the first 9 batter ids\n",
    "    first_9_batter_subset = game_df[game_df['at_bat_number'] < 10]\n",
    "    first_9_batters = first_9_batter_subset['batter'].unique().tolist()\n",
    "    \n",
    "    #map the batter id to batting order position 1-9\n",
    "    batting_order_map = dict(zip(first_9_batters, range(1,10)))\n",
    "    \n",
    "    #for anyone else who bats later in the game, assign 'PH' (pinch hitter) to their batting order slot\n",
    "    other_batters = list(set(all_batters) - set(first_9_batters))\n",
    "    if len(other_batters) > 0:\n",
    "        for batter in other_batters:\n",
    "            batting_order_map[batter] = 'PH'\n",
    "            \n",
    "  \n",
    "    try:\n",
    "        game_df['batting_order_slot'] = game_df['batter'].apply(lambda x: batting_order_map[x])    \n",
    "    except KeyError:\n",
    "        game_df = None\n",
    "        return game_df\n",
    "    \n",
    "    game_df['pitcher_AB'] = game_df['batter'].apply(lambda x: True if x in pitcher_list else False)\n",
    "    game_df['batting_order_slot'] = game_df['batting_order_slot'].where(game_df['pitcher_AB'] == False, other='pitcher')\n",
    "    return game_df"
   ]
  },
  {
   "cell_type": "code",
   "execution_count": null,
   "metadata": {
    "colab": {},
    "colab_type": "code",
    "id": "9ylHPYaB9D4r"
   },
   "outputs": [],
   "source": [
    "def make_game_pitchcount_and_trailing_pitch_features(pitcher_df, pitcher_list):\n",
    "    df = pitcher_df.copy()\n",
    "    \n",
    "    print('#pitches in df before: ' + str(len(df)))\n",
    "    \n",
    "    pitcher_tendencies_overall, pitcher_tendencies_by_count = get_pitch_tendencies(df)\n",
    "    games = df['game_pk'].unique().tolist()\n",
    "    \n",
    "    #take the first game and make the pitch count feature\n",
    "    first_game_df = df[df['game_pk'] == games[0]].copy()\n",
    "    first_game_df['pitch_count'] = range(1, first_game_df.shape[0] + 1)\n",
    "    \n",
    "    #make the L1_pitch type feature:\n",
    "    first_game_df['L1_pitch_type'] = first_game_df['pitch_type'].shift(periods=1)\n",
    "    first_game_df['L1_pitch_result'] = first_game_df['type'].shift(periods=1)\n",
    "    first_game_df['L1_pitch_result'] = first_game_df['L1_pitch_result'].replace({np.nan:'first pitch'})\n",
    "    first_game_df['L1_pitch_zone'] = first_game_df['zone'].shift(periods=1)\n",
    "    first_game_df['L1_pitch_zone'] = first_game_df['L1_pitch_zone'].fillna(-1)\n",
    "    \n",
    "    #overall strike % (to fill in for first 5 pitches L5_strike_perc)\n",
    "    overall_strike_perc = df['type'].value_counts(normalize=True)['S'] * 100\n",
    "    \n",
    "    #make the trailing 5 pitches:\n",
    "    for index, row in first_game_df.iterrows():\n",
    "        #fill NaNs for L1_pitch using same method as when pitch_type was missing\n",
    "        if row['pitch_count'] == 1:\n",
    "            random_pitch = random.choices(population=list(pitcher_tendencies_overall.keys()), \n",
    "                               weights=list(pitcher_tendencies_overall.values()), \n",
    "                               k=1)[0]\n",
    "            first_game_df.at[index, 'L1_pitch_type'] = random_pitch\n",
    "            \n",
    "        #for the first 5 rows, use overall pitcher tendencies    \n",
    "        if row['pitch_count'] < 6:\n",
    "            #fill with overall tendencies\n",
    "            for pitch in list(pitcher_tendencies_overall.keys()):\n",
    "                feature = 'L5_' + pitch + '_perc'\n",
    "                first_game_df.at[index, feature] = pitcher_tendencies_overall[pitch] * 100  \n",
    "                #strike %\n",
    "                first_game_df.at[index, 'L5_strike_perc'] = overall_strike_perc\n",
    "        else:\n",
    "            current_pitch = first_game_df.at[index, 'pitch_count']\n",
    "            #make a subset of the prev 5 pitches\n",
    "            subset = first_game_df[(first_game_df['pitch_count'] > current_pitch - 6) & (first_game_df['pitch_count'] < current_pitch)]\n",
    "            #grab the value count percentages for the last 5 pitches\n",
    "            subset_percentages = subset['pitch_type'].value_counts(normalize=True).to_dict()\n",
    "            try:\n",
    "                L5_strike_perc = subset['type'].value_counts(normalize=True)['S'] * 100\n",
    "            except KeyError:\n",
    "                L5_strike_perc = 0\n",
    "                \n",
    "            first_game_df.at[index, 'L5_strike_perc'] = L5_strike_perc\n",
    "            \n",
    "            #iterate over all possible pitch types this pitcher throws:\n",
    "            for pitch in list(pitcher_tendencies_overall.keys()):\n",
    "                feature = 'L5_' + pitch + '_perc'\n",
    "                #if he has thrown that pitch type in last 5\n",
    "                try:\n",
    "                    first_game_df.at[index, feature] = subset_percentages[pitch] * 100\n",
    "                #except for when he hasnt thrown that type in last 5\n",
    "                except:\n",
    "                    first_game_df.at[index, feature] = 0\n",
    "                    \n",
    "    #apply the battting order features to the game:                \n",
    "    first_game_df = make_game_batting_order(first_game_df)\n",
    "    \n",
    "    #iterate the same process for the rest of his games:\n",
    "    for game in games[1:]:\n",
    "        game_df = df[df['game_pk'] == game].copy() #get df for that game only\n",
    "        game_df['pitch_count'] = range(1, game_df.shape[0] + 1) #make the pitch count for the game\n",
    "        game_df['L1_pitch_type'] = game_df['pitch_type'].shift(periods=1)\n",
    "        game_df['L1_pitch_result'] = game_df['type'].shift(periods=1)\n",
    "        game_df['L1_pitch_result'] = game_df['L1_pitch_result'].replace({np.nan:'first pitch'})\n",
    "        game_df['L1_pitch_zone'] = game_df['zone'].shift(periods=1)\n",
    "        game_df['L1_pitch_zone'] = game_df['L1_pitch_zone'].fillna(0)\n",
    "        \n",
    "        #make the trailing 5 pitches:\n",
    "        for index, row in game_df.iterrows():\n",
    "            #fill NaNs for L1_pitch using same method as when pitch_type was missing\n",
    "            if row['pitch_count'] == 1:\n",
    "                random_pitch = random.choices(population=list(pitcher_tendencies_overall.keys()), \n",
    "                               weights=list(pitcher_tendencies_overall.values()), \n",
    "                               k=1)[0]\n",
    "                game_df.at[index, 'L1_pitch_type'] = random_pitch\n",
    "            \n",
    "            if row['pitch_count'] < 6:\n",
    "                #fill with overall tendencies\n",
    "                for pitch in list(pitcher_tendencies_overall.keys()):\n",
    "                    feature = 'L5_' + pitch + '_perc'\n",
    "                    game_df.at[index, feature] = pitcher_tendencies_overall[pitch] * 100\n",
    "                    #strike %\n",
    "                    game_df.at[index, 'L5_strike_perc'] = overall_strike_perc\n",
    "            else:\n",
    "                current_pitch = game_df.at[index, 'pitch_count']\n",
    "                subset = game_df[(game_df['pitch_count'] > current_pitch - 6) & (game_df['pitch_count'] < current_pitch)]\n",
    "                subset_percentages = subset['pitch_type'].value_counts(normalize=True).to_dict()\n",
    "                \n",
    "                try:\n",
    "                    L5_strike_perc = subset['type'].value_counts(normalize=True)['S'] * 100\n",
    "                except KeyError:\n",
    "                    L5_strike_perc = 0\n",
    "                game_df.at[index, 'L5_strike_perc'] = L5_strike_perc\n",
    "                for pitch in list(pitcher_tendencies_overall.keys()):\n",
    "                    feature = 'L5_' + pitch + '_perc'\n",
    "                    try:\n",
    "                        game_df.at[index, feature] = subset_percentages[pitch] * 100\n",
    "                    except:\n",
    "                        game_df.at[index, feature] = 0\n",
    "                        \n",
    "        #apply the battting order features to the game:                \n",
    "        game_df = make_game_batting_order(game_df)\n",
    "        if game_df.empty:\n",
    "            print('skipping game because of bat data: ' + str(game))\n",
    "            continue\n",
    "        \n",
    "        #concatenate that game w/ updated pitch count and trailing pitches w/ prev games\n",
    "        if game_df['game_pk'].values[0] == games[1]:\n",
    "            new_df = pd.concat([first_game_df, game_df]) #concat the game_df w/ the first game\n",
    "        else:\n",
    "            new_df = pd.concat([new_df, game_df]) #concat the game_df w/ the previous games\n",
    "    \n",
    "    print('# pitches in df after: ' + str(len(new_df)))\n",
    "    \n",
    "    return new_df"
   ]
  },
  {
   "cell_type": "code",
   "execution_count": null,
   "metadata": {
    "colab": {},
    "colab_type": "code",
    "id": "26-yA1Fq9JMA"
   },
   "outputs": [],
   "source": [
    "batter_cols = ['fastball_perc_faced','fastball_chase_perc','fastball_bip_swung_perc', 'fastball_taken_strike_perc',\n",
    "               'fastball_est_woba', 'fastball_babip', 'fastball_iso_value', 'breaking_perc_faced', 'breaking_chase_perc',\n",
    "               'breaking_bip_swung_perc', 'breaking_taken_strike_perc', 'breaking_est_woba', 'breaking_babip', \n",
    "               'breaking_iso_value', 'offspeed_perc_faced', 'offspeed_chase_perc', 'offspeed_bip_swung_perc',\n",
    "               'offspeed_taken_strike_perc', 'offspeed_est_woba', 'offspeed_babip', 'offspeed_iso_value',\n",
    "               'pitchout_perc_faced']\n",
    "\n",
    "def fill_batting_nans(pitcher_df, batting_order_slot_map):\n",
    "    df = pitcher_df.copy()\n",
    "    for slot in df['batting_order_slot'].unique().tolist():\n",
    "        subset = df[df['batting_order_slot'] == slot].copy()\n",
    "        df = df.drop(subset.index)\n",
    "        for col in batter_cols:\n",
    "            subset[col] = subset[col].fillna(batting_order_slot_map[slot][col])\n",
    "        df = pd.concat([df, subset])\n",
    "        print('finished w/ slot: ' + str(slot))\n",
    "    return df"
   ]
  },
  {
   "cell_type": "code",
   "execution_count": null,
   "metadata": {
    "colab": {},
    "colab_type": "code",
    "id": "zV24xM279QEF"
   },
   "outputs": [],
   "source": [
    "def get_left_right_pitch_tendencies(pitcher_df):\n",
    "    #split the df into left hand and right handed batters\n",
    "    left = pitcher_df[pitcher_df['stand'] == 'L'].copy()\n",
    "    right = pitcher_df[pitcher_df['stand'] == 'R'].copy()\n",
    "    \n",
    "    #assign the normalized value counts for this pitchers pitch types to a dictionary\n",
    "    overall_left = left['pitch_cat'].value_counts(normalize=True).to_dict()\n",
    "    overall_right = right['pitch_cat'].value_counts(normalize=True).to_dict()\n",
    "    \n",
    "    #initialize empty dict for count categories tendencies\n",
    "    by_count_left = {}\n",
    "    by_count_right = {}\n",
    "    \n",
    "    #loop over each count category and get the pitchers tendencies and add to the dict\n",
    "    for cat in pitcher_df['count_cat'].unique().tolist():\n",
    "        left_subset = left[left['count_cat'] == cat]\n",
    "        right_subset = right[right['count_cat'] == cat]\n",
    "        \n",
    "        by_count_left[cat] = left_subset['pitch_cat'].value_counts(normalize=True).to_dict()\n",
    "        by_count_right[cat] = right_subset['pitch_cat'].value_counts(normalize=True).to_dict()\n",
    "        \n",
    "    return overall_left, overall_right, by_count_left, by_count_right"
   ]
  },
  {
   "cell_type": "code",
   "execution_count": null,
   "metadata": {
    "colab": {},
    "colab_type": "code",
    "id": "YQ0T9zUi9Wdd"
   },
   "outputs": [],
   "source": [
    "def make_tendency_features(pitcher_df, overall_left, overall_right, by_count_left, by_count_right):\n",
    "    #helper functions to vectorize w/ df.apply():\n",
    "    def get_overall_left_perc(x):\n",
    "        return overall_left[x] * 100\n",
    "    def get_overall_right_perc(x):\n",
    "        return overall_right[x] * 100\n",
    "    def get_by_count_left_perc(x):\n",
    "        try:\n",
    "            return by_count_left[x][pitch_type] * 100\n",
    "        except KeyError:\n",
    "            return 0\n",
    "    def get_by_count_right_perc(x):\n",
    "        try:\n",
    "            return by_count_right[x][pitch_type] * 100\n",
    "        except KeyError:\n",
    "            return 0\n",
    "    \n",
    "    left = pitcher_df[pitcher_df['stand'] == 'L'].copy()\n",
    "    right = pitcher_df[pitcher_df['stand'] == 'R'].copy()\n",
    "    \n",
    "    pitch_types_left = overall_left.keys()\n",
    "    pitch_types_right = overall_right.keys()\n",
    "    \n",
    "    #Left\n",
    "    for pitch_type in pitch_types_left:\n",
    "        overall_feature = 'overall_' + pitch_type + '_perc'\n",
    "        count_cat_feature = 'count_cat_' + pitch_type + '_perc'\n",
    "      \n",
    "        left[overall_feature] = pitch_type\n",
    "        left[overall_feature] = left[overall_feature].apply(get_overall_left_perc)\n",
    "        left[count_cat_feature] = left['count_cat'].apply(get_by_count_left_perc)\n",
    "    #Right\n",
    "    for pitch_type in pitch_types_right:\n",
    "        overall_feature = 'overall_' + pitch_type + '_perc'\n",
    "        count_cat_feature = 'count_cat_' + pitch_type + '_perc'\n",
    "      \n",
    "        right[overall_feature] = pitch_type\n",
    "        right[overall_feature] = right[overall_feature].apply(get_overall_right_perc)\n",
    "        right[count_cat_feature] = right['count_cat'].apply(get_by_count_right_perc)\n",
    "        \n",
    "    \n",
    "    return pd.concat([left,right], sort=False).sort_values(by=['game_date', 'game_pk', 'at_bat_number', 'pitch_number'])\n"
   ]
  },
  {
   "cell_type": "code",
   "execution_count": null,
   "metadata": {
    "colab": {},
    "colab_type": "code",
    "id": "Rp63eB2e9Xx2"
   },
   "outputs": [],
   "source": [
    "def add_pitcher_scouting_report(pitcher_df, pitcher_df17, start_dates, end_dates):\n",
    "    df = pd.concat([pitcher_df, pitcher_df17], sort=False)\n",
    "    \n",
    "    #initialize empty list to store dfs (concat them together later)\n",
    "    df_list = []\n",
    "    \n",
    "    #iterate over each period\n",
    "    for i in range(len(start_dates)):\n",
    "      \n",
    "        #make the prior and current dfs:\n",
    "        prior_df = df[df['game_date'] < start_dates[i]]\n",
    "        current_df = df[(df['game_date'] >= start_dates[i]) & (df['game_date'] <= end_dates[i])].copy()\n",
    "        \n",
    "        #get the pitch tendencies from prior:\n",
    "        overall_left, overall_right, by_count_left, by_count_right = get_left_right_pitch_tendencies(prior_df)\n",
    "        \n",
    "        #make the pitch tendencies features on current:\n",
    "        current_df = make_tendency_features(current_df, overall_left, overall_right, by_count_left, by_count_right)\n",
    "        \n",
    "        #append the df to the list\n",
    "        df_list.append(current_df)\n",
    "    \n",
    "    df = pd.concat(df_list, sort=False)\n",
    "    return df\n"
   ]
  },
  {
   "cell_type": "code",
   "execution_count": null,
   "metadata": {
    "colab": {},
    "colab_type": "code",
    "id": "L1MjugpG9aho"
   },
   "outputs": [],
   "source": [
    "def make_game_batting_order(game_df):\n",
    "    game_df = game_df.sort_values(by=['at_bat_number', 'pitch_number'])\n",
    "    all_batters = game_df['batter'].unique().tolist()\n",
    "    #re-set the at_bat_number for the game to be sequential starting at 1\n",
    "    at_bat_keys = game_df['at_bat_number'].unique().tolist()\n",
    "    at_bat_values = range(1, len(at_bat_keys)+1)\n",
    "    at_bat_map = dict(zip(at_bat_keys, at_bat_values))\n",
    "    game_df['at_bat_number'] = game_df['at_bat_number'].replace(at_bat_map)\n",
    "    \n",
    "    #get the first 9 batter ids\n",
    "    first_9_batter_subset = game_df[game_df['at_bat_number'] < 10]\n",
    "    first_9_batters = first_9_batter_subset['batter'].unique().tolist()\n",
    "    \n",
    "    #map the batter id to batting order position 1-9\n",
    "    batting_order_map = dict(zip(first_9_batters, range(1,10)))\n",
    "    \n",
    "    #for anyone else who bats later in the game, assign 'PH' (pinch hitter) to their batting order slot\n",
    "    other_batters = list(set(all_batters) - set(first_9_batters))\n",
    "    if len(other_batters) > 0:\n",
    "        for batter in other_batters:\n",
    "            batting_order_map[batter] = 'PH'\n",
    "    try:\n",
    "        game_df['batting_order_slot'] = game_df['batter'].apply(lambda x: batting_order_map[x])    \n",
    "    except KeyError:\n",
    "        game_df = None\n",
    "        return game_df\n",
    "    \n",
    "    game_df['pitcher_AB'] = game_df['batter'].apply(lambda x: True if x in pitcher_list else False)\n",
    "    game_df['batting_order_slot'] = game_df['batting_order_slot'].where(game_df['pitcher_AB'] == False, other='pitcher')\n",
    "    return game_df"
   ]
  },
  {
   "cell_type": "code",
   "execution_count": null,
   "metadata": {
    "colab": {},
    "colab_type": "code",
    "id": "Xe70zhqP9cFl"
   },
   "outputs": [],
   "source": [
    "def get_pitch_tendencies(pitcher_df):\n",
    "    #assign the normalized value counts for this pitchers pitch types to a dictionary\n",
    "    pitcher_tendencies_overall = pitcher_df['pitch_cat'].value_counts(normalize=True).to_dict()\n",
    "\n",
    "    #initialize empty dict for count categories tendencies\n",
    "    pitcher_tendencies_by_count = {}\n",
    "    \n",
    "    #loop over each count category and get the pitchers tendencies and add to the dict\n",
    "    for cat in pitcher_df['count_cat'].unique().tolist():\n",
    "        subset = pitcher_df[pitcher_df['count_cat'] == cat]\n",
    "        pitcher_tendencies_by_count[cat] = subset['pitch_cat'].value_counts(normalize=True).to_dict()\n",
    "    return pitcher_tendencies_overall, pitcher_tendencies_by_count\n"
   ]
  },
  {
   "cell_type": "code",
   "execution_count": null,
   "metadata": {
    "colab": {},
    "colab_type": "code",
    "id": "1AgEPY3o9fF-"
   },
   "outputs": [],
   "source": [
    "def make_game_pitchcount_and_trailing_pitch_features_and_batting_order(pitcher_df, pitcher_list):\n",
    "    df = pitcher_df.copy()\n",
    "    all_games = []\n",
    "    \n",
    "    print('#pitches in df before: ' + str(len(df)))\n",
    "    \n",
    "    pitcher_tendencies_overall, pitcher_tendencies_by_count = get_pitch_tendencies(df)\n",
    "    games = df['game_pk'].unique().tolist()\n",
    "    \n",
    "    for game in games:\n",
    "        \n",
    "        #take the first game and make the pitch count feature\n",
    "        game_df = df[df['game_pk'] == game].copy()\n",
    "        game_df['pitch_count'] = range(1, game_df.shape[0] + 1)\n",
    "    \n",
    "        #make the L1_pitch type feature:\n",
    "        game_df['L1_pitch_type'] = game_df['pitch_cat'].shift(periods=1)\n",
    "        game_df['L1_pitch_result'] = game_df['type'].shift(periods=1)\n",
    "        game_df['L1_pitch_result'] = game_df['L1_pitch_result'].replace({np.nan:'first pitch'})\n",
    "        game_df['L1_pitch_zone'] = game_df['zone'].shift(periods=1)\n",
    "        game_df['L1_ball_high'] = game_df['ball_high'].shift(periods=1)\n",
    "        game_df['L1_ball_low'] = game_df['ball_low'].shift(periods=1)\n",
    "        game_df['L1_ball_left'] = game_df['ball_left'].shift(periods=1)\n",
    "        game_df['L1_ball_right'] = game_df['ball_right'].shift(periods=1)\n",
    "        \n",
    "        game_df[['L1_pitch_zone', 'L1_ball_high', 'L1_ball_low', 'L1_ball_left', 'L1_ball_right']] = game_df[['L1_pitch_zone', 'L1_ball_high', 'L1_ball_low', 'L1_ball_left', 'L1_ball_right']].fillna(-1)\n",
    "        #game_df['L1_pitch_zone'] = game_df['L1_pitch_zone'].fillna(-1)\n",
    "\n",
    "        #overall strike % (to fill in for first 5 pitches L5_strike_perc)\n",
    "        overall_strike_perc = df['type'].value_counts(normalize=True)['S'] * 100\n",
    "\n",
    "        #make the trailing 5 pitches:\n",
    "        for index, row in game_df.iterrows():\n",
    "            #fill NaNs for L1_pitch using same method as when pitch_type was missing\n",
    "            if row['pitch_count'] == 1:\n",
    "                random_pitch = random.choices(population=list(pitcher_tendencies_overall.keys()), \n",
    "                                   weights=list(pitcher_tendencies_overall.values()), \n",
    "                                   k=1)[0]\n",
    "                game_df.at[index, 'L1_pitch_type'] = random_pitch\n",
    "\n",
    "            #for the first 5 rows, use overall pitcher tendencies    \n",
    "            if row['pitch_count'] < 6:\n",
    "                #fill with overall tendencies\n",
    "                for pitch in list(pitcher_tendencies_overall.keys()):\n",
    "                    feature = 'L5_' + pitch + '_perc'\n",
    "                    game_df.at[index, feature] = pitcher_tendencies_overall[pitch] * 100\n",
    "                    feature = 'L15_' + pitch + '_perc'\n",
    "                    game_df.at[index, feature] = pitcher_tendencies_overall[pitch] * 100\n",
    "                #strike %\n",
    "                game_df.at[index, 'L5_strike_perc'] = overall_strike_perc\n",
    "                game_df.at[index, 'L15_strike_perc'] = overall_strike_perc\n",
    "\n",
    "            else:\n",
    "                current_pitch = game_df.at[index, 'pitch_count']\n",
    "                #make a subset of the prev 5 pitches\n",
    "                subset = game_df[(game_df['pitch_count'] > current_pitch - 6) & (game_df['pitch_count'] < current_pitch)]\n",
    "                #grab the value count percentages for the last 5 pitches\n",
    "                subset_percentages = subset['pitch_cat'].value_counts(normalize=True).to_dict()\n",
    "                try:\n",
    "                    L5_strike_perc = subset['type'].value_counts(normalize=True)['S'] * 100\n",
    "                except KeyError:\n",
    "                    L5_strike_perc = 0\n",
    "\n",
    "                game_df.at[index, 'L5_strike_perc'] = L5_strike_perc\n",
    "\n",
    "                #iterate over all possible pitch types this pitcher throws:\n",
    "                for pitch in list(pitcher_tendencies_overall.keys()):\n",
    "                    feature = 'L5_' + pitch + '_perc'\n",
    "                    #if he has thrown that pitch type in last 5\n",
    "                    try:\n",
    "                        game_df.at[index, feature] = subset_percentages[pitch] * 100\n",
    "                    #except for when he hasnt thrown that type in last 5\n",
    "                    except:\n",
    "                        game_df.at[index, feature] = 0\n",
    "\n",
    "\n",
    "                if row['pitch_count'] < 16:\n",
    "                    #make a subset of the prev 15 pitches\n",
    "                    subset = game_df[(game_df['pitch_count'] < current_pitch)]\n",
    "                    #grab the value count percentages for the last 15 pitches\n",
    "                    subset_percentages = subset['pitch_cat'].value_counts(normalize=True).to_dict()\n",
    "                    try:\n",
    "                        L15_strike_perc = subset['type'].value_counts(normalize=True)['S'] * 100\n",
    "                    except KeyError:\n",
    "                        L15_strike_perc = 0\n",
    "\n",
    "                    game_df.at[index, 'L15_strike_perc'] = L15_strike_perc\n",
    "\n",
    "                    #iterate over all possible pitch types this pitcher throws:\n",
    "                    for pitch in list(pitcher_tendencies_overall.keys()):\n",
    "                        feature = 'L15_' + pitch + '_perc'\n",
    "                        #if he has thrown that pitch type in last 15\n",
    "                        try:\n",
    "                            game_df.at[index, feature] = subset_percentages[pitch] * 100\n",
    "                        #except for when he hasnt thrown that type in last 5\n",
    "                        except:\n",
    "                            game_df.at[index, feature] = 0\n",
    "                else:\n",
    "                    #make a subset of the prev 15 pitches\n",
    "                    subset = game_df[(game_df['pitch_count'] > current_pitch - 16) & (game_df['pitch_count'] < current_pitch)]\n",
    "                    #grab the value count percentages for the last 5 pitches\n",
    "                    subset_percentages = subset['pitch_cat'].value_counts(normalize=True).to_dict()\n",
    "                    try:\n",
    "                        L15_strike_perc = subset['type'].value_counts(normalize=True)['S'] * 100\n",
    "                    except KeyError:\n",
    "                        L15_strike_perc = 0\n",
    "\n",
    "                    game_df.at[index, 'L15_strike_perc'] = L15_strike_perc\n",
    "\n",
    "                    #iterate over all possible pitch types this pitcher throws:\n",
    "                    for pitch in list(pitcher_tendencies_overall.keys()):\n",
    "                        feature = 'L15_' + pitch + '_perc'\n",
    "                        #if he has thrown that pitch type in last 5\n",
    "                        try:\n",
    "                            game_df.at[index, feature] = subset_percentages[pitch] * 100\n",
    "                        #except for when he hasnt thrown that type in last 5\n",
    "                        except:\n",
    "                            game_df.at[index, feature] = 0\n",
    "                            \n",
    "        #apply the battting order features to the game:                \n",
    "        game_df = make_game_batting_order(game_df)\n",
    "    \n",
    "        all_games.append(game_df)\n",
    "    \n",
    "    new_df = pd.concat(all_games).sort_values(by=['game_date', 'game_pk', 'at_bat_number', 'pitch_number'])\n",
    "    \n",
    "    print('# pitches in df after: ' + str(len(new_df)))\n",
    "    \n",
    "    return new_df"
   ]
  },
  {
   "cell_type": "code",
   "execution_count": null,
   "metadata": {
    "colab": {},
    "colab_type": "code",
    "id": "x654zDNo9hC7"
   },
   "outputs": [],
   "source": [
    "def make_prev_ab_walk_basehit_run_and_homerun_features(pitcher_df):\n",
    "    \n",
    "    all_games = []\n",
    "    #iterate over each game\n",
    "    for game in pitcher_df['game_pk'].unique():\n",
    "        #make subset df for that game\n",
    "        game_df = pitcher_df[pitcher_df['game_pk'] == game].copy()\n",
    "        #initialize columns to False:\n",
    "        game_df['prev_ab_run_scored'] = False\n",
    "        game_df['prev_ab_homerun'] = False\n",
    "        game_df['prev_ab_walk'] = False\n",
    "        game_df['prev_ab_basehit'] = False\n",
    "        game_df['prev_ab_strikeout'] = False\n",
    "        \n",
    "        #this gets the \n",
    "        at_bats = game_df['at_bat_number'].sort_values().unique()\n",
    "        \n",
    "        #initialize empty dicts\n",
    "        run_scored = []\n",
    "        homeruns = []\n",
    "        walks = []\n",
    "        basehits = []\n",
    "        strikeouts = []\n",
    "        \n",
    "        walks = ['walk', 'hit_by_pitch']\n",
    "        basehits = ['single', 'double', 'triple', 'home_run']\n",
    "        \n",
    "        #starting w/ 2nd AB, iterate thru to the end of the at_bats:\n",
    "        for ab in at_bats[2:]:\n",
    "            #get the index for the last pitch of the prev AB\n",
    "            prev_ab_last_pitch_index = game_df[game_df['at_bat_number'] == ab-1]['pitch_number'].index.max()\n",
    "            #check if the last pitch resulted in a walk or hit by pitch:\n",
    "            if game_df.loc[prev_ab_last_pitch_index]['events'] in walks:\n",
    "                #if so, add an entry\n",
    "                walks.append(ab)\n",
    "            #check if last pitch gave up a basehit:\n",
    "            elif game_df.loc[prev_ab_last_pitch_index]['events'] in basehits:\n",
    "                basehits.append(ab)\n",
    "            elif game_df.loc[prev_ab_last_pitch_index]['events'] == 'strikeout':\n",
    "                strikeouts.append(ab)\n",
    "            \n",
    "            #to check if prev AB resulted in a run scoring: compare score before and after the AB\n",
    "            prev_score = game_df[game_df['at_bat_number'] == ab-1]['bat_score'].values[0]\n",
    "            current_score = game_df[game_df['at_bat_number'] == ab]['bat_score'].values[0]\n",
    "            \n",
    "            if current_score > prev_score:\n",
    "                run_scored.append(ab)\n",
    "                 \n",
    "                #check if last AB gave up a homerun:\n",
    "                if game_df.loc[prev_ab_last_pitch_index]['events'] == 'home_run':\n",
    "                    homeruns.append(ab)\n",
    "                    \n",
    "        #iterate over each at_bat, and add the features to the df where appropriate\n",
    "        for ab in at_bats:\n",
    "            idx = game_df[game_df['at_bat_number'] == ab].index\n",
    "            if ab in walks:\n",
    "                game_df.at[idx, 'prev_ab_walk'] = True\n",
    "            elif ab in basehits:\n",
    "                game_df.at[idx, 'prev_ab_basehit'] = True\n",
    "            elif ab in strikeouts:\n",
    "                game_df.at[idx, 'prev_ab_strikeout'] = True\n",
    "            if ab in run_scored:\n",
    "                game_df.at[idx, 'prev_ab_run_scored'] = True\n",
    "                if ab in homeruns:\n",
    "                    game_df.at[idx, 'prev_ab_homerun'] = True\n",
    "        all_games.append(game_df)\n",
    "        \n",
    "    return pd.concat(all_games).sort_values(by=['game_date', 'game_pk', 'pitch_count'])"
   ]
  },
  {
   "cell_type": "code",
   "execution_count": null,
   "metadata": {
    "colab": {},
    "colab_type": "code",
    "id": "WgbsltTk9oD0"
   },
   "outputs": [],
   "source": [
    "batter_cols = ['fastball_perc_faced','fastball_chase_perc','fastball_bip_swung_perc', 'fastball_taken_strike_perc',\n",
    "               'fastball_est_woba', 'fastball_babip', 'fastball_iso_value', 'breaking_perc_faced', 'breaking_chase_perc',\n",
    "               'breaking_bip_swung_perc', 'breaking_taken_strike_perc', 'breaking_est_woba', 'breaking_babip', \n",
    "               'breaking_iso_value', 'offspeed_perc_faced', 'offspeed_chase_perc', 'offspeed_bip_swung_perc',\n",
    "               'offspeed_taken_strike_perc', 'offspeed_est_woba', 'offspeed_babip', 'offspeed_iso_value',\n",
    "               'pitchout_perc_faced']\n",
    "\n",
    "def fill_batting_nans(pitcher_df, batting_order_slot_map):\n",
    "    df = pitcher_df.copy()\n",
    "    for slot in df['batting_order_slot'].unique().tolist():\n",
    "        subset = df[df['batting_order_slot'] == slot].copy()\n",
    "        df = df.drop(subset.index)\n",
    "        for col in batter_cols:\n",
    "            subset[col] = subset[col].fillna(batting_order_slot_map[slot][col])\n",
    "        df = pd.concat([df, subset])\n",
    "        print('finished w/ slot: ' + str(slot))\n",
    "    df = df.sort_values(by=['game_date', 'game_pk', 'pitch_count'])\n",
    "    return df"
   ]
  },
  {
   "cell_type": "code",
   "execution_count": null,
   "metadata": {
    "colab": {},
    "colab_type": "code",
    "id": "jUTC8MFP9p_W"
   },
   "outputs": [],
   "source": [
    "def add_pb_matchup_priors(pitcher_df, pitcher_df17, start_dates, end_dates):\n",
    "    df = pd.concat([pitcher_df, pitcher_df17], sort=False)\n",
    "    \n",
    "    #initialize empty list to store dfs (concat them together later)\n",
    "    df_list = []\n",
    "    \n",
    "    #iterate over each period\n",
    "    for i in range(len(start_dates)):\n",
    "        \n",
    "        #make the prior and current dfs:\n",
    "        prior_df = df[df['game_date'] < start_dates[i]]\n",
    "        current_df = df[(df['game_date'] >= start_dates[i]) & (df['game_date'] <= end_dates[i])]\n",
    "        \n",
    "        #get all the pitch_types this pitcher has thrown in the past:\n",
    "        pitch_types = prior_df['pitch_cat'].unique().tolist()\n",
    "        \n",
    "        try:\n",
    "            pitch_types.remove('PO')\n",
    "        except:\n",
    "            pass\n",
    "        print(pitch_types)\n",
    "        \n",
    "        #get a list of the batters in the current_df\n",
    "        current_batters = current_df['batter'].unique().tolist()\n",
    "        \n",
    "        batters_dict = {}\n",
    "        \n",
    "        current_df_list = []\n",
    "        \n",
    "        for batter in current_batters:\n",
    "            batter_df_list = []\n",
    "            \n",
    "            #first use subset from prior df\n",
    "            batter_subset = prior_df[prior_df['batter'] == batter].copy()\n",
    "            #if pitcher has never faced this batter before:\n",
    "            if batter_subset.empty:\n",
    "                #get the left or right handedness of the batter\n",
    "                stand = current_df[current_df['batter'] == batter]['stand'].values[0]\n",
    "                #use overall prior tendencies vs left or right handed hitters\n",
    "                overall, by_count = get_pitch_tendencies(prior_df[prior_df['stand'] == stand])\n",
    "            else:\n",
    "                overall, by_count = get_pitch_tendencies(batter_subset)\n",
    "            batters_dict[batter] = by_count\n",
    "            \n",
    "            #now use subset of current_df where batter=batter\n",
    "            batter_subset = current_df[current_df['batter'] == batter].copy()\n",
    "            #iterate over the different count_cat types:\n",
    "            for count_cat in ['ahead', 'behind', 'neutral']:\n",
    "                count_subset = batter_subset[batter_subset['count_cat'] == count_cat].copy()\n",
    "                if count_subset.empty:\n",
    "                    continue\n",
    "                else:\n",
    "                    for pitch in pitch_types:\n",
    "                        try:\n",
    "                            count_subset['PB_'+pitch] = batters_dict[batter][count_cat][pitch] * 100\n",
    "                        except KeyError:\n",
    "                            count_subset['PB_'+pitch] = 0\n",
    "                            \n",
    "                current_df_list.append(count_subset)\n",
    "        \n",
    "        current_df = pd.concat(current_df_list, sort=False)\n",
    "        df_list.append(current_df)\n",
    "                    \n",
    "    new_df = pd.concat(df_list, sort=False).sort_values(by=['game_date', 'game_pk', 'pitch_count'])\n",
    "    return new_df"
   ]
  }
 ],
 "metadata": {
  "colab": {
   "machine_shape": "hm",
   "name": "cleaning workbook.ipynb",
   "provenance": [],
   "version": "0.3.2"
  },
  "kernelspec": {
   "display_name": "Python 3",
   "language": "python",
   "name": "python3"
  },
  "language_info": {
   "codemirror_mode": {
    "name": "ipython",
    "version": 3
   },
   "file_extension": ".py",
   "mimetype": "text/x-python",
   "name": "python",
   "nbconvert_exporter": "python",
   "pygments_lexer": "ipython3",
   "version": "3.6.7"
  }
 },
 "nbformat": 4,
 "nbformat_minor": 4
}
